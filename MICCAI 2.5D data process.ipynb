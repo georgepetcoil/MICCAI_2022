{
 "cells": [
  {
   "cell_type": "code",
   "execution_count": 2,
   "metadata": {},
   "outputs": [],
   "source": [
    "import pydicom\n",
    "import numpy as np\n",
    "import os\n",
    "import h5py"
   ]
  },
  {
   "cell_type": "code",
   "execution_count": 3,
   "metadata": {},
   "outputs": [],
   "source": [
    "def save_3_slices_together(dir_path, volume_shape=(440,440,645), output_prefix='stacked file'):\n",
    "    save_dir = dir_path    \n",
    "    image_volume = np.zeros(volume_shape)\n",
    "    i=0\n",
    "    for filename in os.listdir(dir_path):\n",
    "        f = os.path.join(dir_path, filename)\n",
    "        # checking if it is a file\n",
    "        if os.path.isfile(f):\n",
    "            img = pydicom.read_file(f)\n",
    "            img_array = img.pixel_array\n",
    "            image_volume[:,:,i]=img_array\n",
    "            i+=1      \n",
    "    print(\"The shape of volume array is {}\".format(image_volume.shape))\n",
    "    \n",
    "    image_volume[:,:,-1] = image_volume[:,:,-2]\n",
    "    total_slices = int(image_volume.shape[2] / 3)\n",
    "    print(total_slices)\n",
    "    for idx in range(1, total_slices-1):\n",
    "        data = image_volume[:,:,idx-1:idx+2]\n",
    "        output_filename = output_prefix + str(idx) + \".h5\"\n",
    "        if idx == 1:\n",
    "            print(\"The shape of volume array is {}\".format(data.shape))\n",
    "        \n",
    "        with h5py.File(save_dir + \"/\" + output_filename, 'w') as outFile:\n",
    "            dataset = outFile.create_dataset('data', data=data)\n",
    "            dataset.attrs['idx'] = (idx-1, idx, idx+1)\n",
    "            dataset.attrs['note'] = \"Three contiguous slices. Prepared for 2.5-D Pix2Pix\"            "
   ]
  },
  {
   "cell_type": "code",
   "execution_count": null,
   "metadata": {},
   "outputs": [],
   "source": [
    "rootdir = 'C:/Users/deker/Downloads/Siemens Vision Quadra-20220714T071152Z-003/Siemens Vision Quadra/Subject_115-117'\n",
    "\n",
    "for root, dirs, files in os.walk(rootdir):\n",
    "    if len(dirs) == 0: # means we are reaching a dir with no subdir\n",
    "        save_3_slices_together(dir_path=root)"
   ]
  }
 ],
 "metadata": {
  "kernelspec": {
   "display_name": "Python 3",
   "language": "python",
   "name": "python3"
  },
  "language_info": {
   "codemirror_mode": {
    "name": "ipython",
    "version": 3
   },
   "file_extension": ".py",
   "mimetype": "text/x-python",
   "name": "python",
   "nbconvert_exporter": "python",
   "pygments_lexer": "ipython3",
   "version": "3.8.5"
  }
 },
 "nbformat": 4,
 "nbformat_minor": 4
}
